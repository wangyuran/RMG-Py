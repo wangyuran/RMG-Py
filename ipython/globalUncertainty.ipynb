{
 "cells": [
  {
   "cell_type": "markdown",
   "metadata": {},
   "source": [
    "# Global Uncertainty Analysis: Polynomial Chaos Expansion (PCE) for Chemical Reaction System\n",
    "\n",
    "\n",
    "This ipython notebook uses MUQ as a basis for adaptive Polynomial Chaos Expansions to perform global uncertainty analysis for chemical reaction systems.  This ipython notebook details a workflow using RMG, Cantera, and MUQ codes.  "
   ]
  },
  {
   "cell_type": "code",
   "execution_count": null,
   "metadata": {
    "collapsed": false
   },
   "outputs": [],
   "source": [
    "from rmgpy.tools.canteraModel import Cantera, getRMGSpeciesFromUserSpecies\n",
    "from rmgpy.species import Species\n",
    "from rmgpy.chemkin import loadChemkinFile\n",
    "from rmgpy.tools.muq import ReactorPCEFactory"
   ]
  },
  {
   "cell_type": "markdown",
   "metadata": {},
   "source": [
    "Load chemical kinetic mechanism from RMG chemkin file and dictionary."
   ]
  },
  {
   "cell_type": "code",
   "execution_count": null,
   "metadata": {
    "collapsed": true
   },
   "outputs": [],
   "source": [
    "# Load chemkin file (truncated PDD model)\n",
    "chemkinFile = 'data/minimal_model/chem_annotated.inp'\n",
    "dictFile = 'data/minimal_model/species_dictionary.txt'\n",
    "\n",
    "speciesList, reactionList = loadChemkinFile(chemkinFile, dictFile)"
   ]
  },
  {
   "cell_type": "markdown",
   "metadata": {},
   "source": [
    "Create a Cantera model object that stores the reaction conditions."
   ]
  },
  {
   "cell_type": "code",
   "execution_count": null,
   "metadata": {
    "collapsed": false
   },
   "outputs": [],
   "source": [
    "outputDir = 'uncertainty'\n",
    "\n",
    "ethane=Species().fromSMILES('CC')\n",
    "H = Species().fromSMILES('[H]')\n",
    "C2H5 = Species().fromSMILES('C[CH2]')\n",
    "C2H4 = Species().fromSMILES('C=C')\n",
    "\n",
    "mapping = getRMGSpeciesFromUserSpecies([ethane, H, C2H5, C2H4], speciesList)\n",
    "\n",
    "reactorTypeList = ['IdealGasConstPressureTemperatureReactor']\n",
    "molFracList=[{mapping[ethane]: 1.0}]\n",
    "Tlist = ([1200, 1300],'K')\n",
    "Plist = ([1],'atm')\n",
    "reactionTimeList = ([5e-4], 's')\n",
    "\n",
    "\n",
    "job = Cantera(speciesList=speciesList, reactionList=reactionList, outputDirectory=outputDir)\n",
    "# Load the cantera model based on the RMG reactions and species\n",
    "job.loadModel()\n",
    "# Generate the conditions based on the settings we declared earlier\n",
    "job.generateConditions(reactorTypeList, reactionTimeList, molFracList, Tlist, Plist)\n"
   ]
  },
  {
   "cell_type": "markdown",
   "metadata": {},
   "source": [
    "Input a set of kinetic $(k)$ and thermo $(G)$ parameters to be propagated and their uncertainties $(d\\ln(k), dG)$ into the `ReactorPCEFactory` class.  These kinetic and thermo parameters should typically be pre-screened from local uncertainty analysis to narrow down to the most influential parameters.  \n",
    "Each parameter's uncertainty is considered to be a uniform uncertainty interval where unit random variables $\\ln(k)_{rv}$ and $G_{rv}$ are mapped to the user-assigned parameter uncertainties.\n",
    "\n",
    "$\\ln(k)_{rv} \\sim U(-1, 1) \\rightarrow ln(k) \\sim U(-d\\ln(k), d\\ln(k))$\n",
    "\n",
    "$G_{rv} \\sim U(-1, 1) \\rightarrow G \\sim U(-dG, dG)$\n",
    "\n",
    "\n",
    "Polynomial chaos expansions (PCE) are contructed for the desired outputs of interest (species mole fractions).\n",
    "\n",
    "\n"
   ]
  },
  {
   "cell_type": "code",
   "execution_count": null,
   "metadata": {
    "collapsed": false
   },
   "outputs": [],
   "source": [
    "# Create ReactorPCEFactory object\n",
    "reactorPCEFactory = ReactorPCEFactory(cantera=job,\n",
    "                            outputSpeciesList=[mapping[ethane], mapping[C2H4]],\n",
    "                            kReactions=[7, 3],   # indices for the reactions in job.reactionList\n",
    "                            kUncertainty=[2.0,2.0],   # dln(k)\n",
    "                            gSpecies = [job.speciesList.index(mapping[H]), job.speciesList.index(mapping[C2H5]),\n",
    "                                       job.speciesList.index(mapping[C2H4])],  # indices for the species in job.speciesList\n",
    "                            gUncertainty=[1.0, 2.0, 2.0]   # dG in units of kcal/mol\n",
    "                            )\n"
   ]
  },
  {
   "cell_type": "markdown",
   "metadata": {},
   "source": [
    "Begin generating the PCEs adaptively based a runtime.\n",
    "\n",
    "There are actually three methods for generating PCEs. See the `ReactorPCEFactory.generatePCE` function for more details.\n",
    "\n",
    "- Option 1: Adaptive for a pre-specified amount of time\n",
    "- Option 2: Adaptively construct PCE to error tolerance\n",
    "- Option 3: Used a fixed order, and (optionally) adapt later.  "
   ]
  },
  {
   "cell_type": "code",
   "execution_count": null,
   "metadata": {
    "collapsed": false
   },
   "outputs": [],
   "source": [
    "reactorPCEFactory.generatePCE(runTime=60)  # runtime of 60 seconds."
   ]
  },
  {
   "cell_type": "markdown",
   "metadata": {},
   "source": [
    "Let's compare the outputs for a test point using the real model versus using the PCE approximation.\n",
    "Evaluate the desired output mole fractions based on a set of inputs `ins = [[` $\\ln(k)_{rv}$ `], [` $G_{rv}$ `]]` which contains the \n",
    "random unit uniform variables attributed to the uncertain kinetics and free energy parameters, respectively."
   ]
  },
  {
   "cell_type": "code",
   "execution_count": null,
   "metadata": {
    "collapsed": false
   },
   "outputs": [],
   "source": [
    "trueTestPointOutput, pceTestPointOutput = reactorPCEFactory.compareOutput([0.5,0.2,0.1,-.5,.7])   "
   ]
  },
  {
   "cell_type": "markdown",
   "metadata": {},
   "source": [
    "Obtain the results: the species mole fraction mean and variance computed from the PCE, as well as the global sensitivity indices."
   ]
  },
  {
   "cell_type": "code",
   "execution_count": null,
   "metadata": {
    "collapsed": false
   },
   "outputs": [],
   "source": [
    "mean, variance, covariance, mainSens, totalSens = reactorPCEFactory.analyzeResults()"
   ]
  }
 ],
 "metadata": {
  "kernelspec": {
   "display_name": "Python 2",
   "language": "python",
   "name": "python2"
  },
  "language_info": {
   "codemirror_mode": {
    "name": "ipython",
    "version": 2
   },
   "file_extension": ".py",
   "mimetype": "text/x-python",
   "name": "python",
   "nbconvert_exporter": "python",
   "pygments_lexer": "ipython2",
   "version": "2.7.12"
  }
 },
 "nbformat": 4,
 "nbformat_minor": 0
}
